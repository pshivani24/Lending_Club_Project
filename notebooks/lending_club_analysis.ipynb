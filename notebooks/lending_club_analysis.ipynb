{
 "cells": [
  {
   "cell_type": "markdown",
   "metadata": {},
   "source": [
    "# Jack Henry Data Scientist Challenge: Lending Club Analysis\n",
    "\n",
    "**Dataset**: Lending Club Loan Data (2007-2015)\n",
    "\n",
    "## Executive Summary\n",
    "This notebook analyzes Lending Club loan data to provide insights on default patterns by loan grade. Key findings:\n",
    "- Loan grades effectively stratify default risk (A: ~5% vs G: ~30%)\n",
    "- Portfolio concentration in mid-tier grades (C-E) balances risk and volume\n",
    "- High-risk grades (F-G) may require enhanced risk controls\n",
    "\n",
    "## Contents\n",
    "1. Data Loading & Validation\n",
    "2. Data Cleaning & Preparation\n",
    "3. Exploratory Data Analysis\n",
    "4. Grade-Level Analysis\n",
    "5. Risk-Return Visualization\n",
    "6. Business Insights & Recommendations"
   ]
  },
  {
   "cell_type": "markdown",
   "metadata": {},
   "source": [
    "## 1. Setup & Data Loading"
   ]
  },
  {
   "cell_type": "code",
   "execution_count": 1,
   "metadata": {},
   "outputs": [
    {
     "name": "stdout",
     "output_type": "stream",
     "text": [
      "Environment setup complete!\n",
      "Working directory: c:\\Users\\vaidy\\Downloads\\Lending Club assignment\\notebooks\n"
     ]
    }
   ],
   "source": [
    "import pandas as pd\n",
    "import numpy as np\n",
    "import matplotlib.pyplot as plt\n",
    "import seaborn as sns\n",
    "import warnings\n",
    "from pathlib import Path\n",
    "\n",
    "import sys\n",
    "sys.path.append('../src')\n",
    "\n",
    "from data_loader import load_lending_club_data, validate_required_columns, get_basic_info\n",
    "from data_cleaner import clean_lending_club_data, get_cleaning_summary, validate_cleaned_data\n",
    "from analyzer import calculate_grade_metrics, calculate_portfolio_metrics, analyze_risk_return_relationship\n",
    "from visualizer import plot_default_rate_by_grade, plot_risk_return_analysis, create_executive_dashboard\n",
    "\n",
    "# Configure display options\n",
    "pd.set_option('display.max_columns', None)\n",
    "pd.set_option('display.float_format', lambda x: f'{x:,.4f}')\n",
    "warnings.filterwarnings('ignore')\n",
    "\n",
    "# Set random seed for reproducibility\n",
    "np.random.seed(42)\n",
    "\n",
    "print(\"Environment setup complete!\")\n",
    "print(f\"Working directory: {Path.cwd()}\")\n"
   ]
  },
  {
   "cell_type": "code",
   "execution_count": 2,
   "metadata": {},
   "outputs": [
    {
     "name": "stdout",
     "output_type": "stream",
     "text": [
      "Loading data from: ../data/accepted_2007_to_2018Q4.csv\n",
      "Rows: 2,260,701, Columns: 151\n",
      "Rows: 2,260,701, Columns: 151\n",
      "\n",
      "Dataset overview:\n",
      "Rows: 2,260,701, Columns: 151\n",
      "Memory usage: 5992.3 MB\n",
      "Null values: 108,486,252\n",
      "Duplicate rows: 0\n",
      "Numeric columns: 113\n",
      "Object columns: 38\n",
      "\n",
      "Dataset loaded successfully!\n",
      "\n",
      "Dataset overview:\n",
      "Rows: 2,260,701, Columns: 151\n",
      "Memory usage: 5992.3 MB\n",
      "Null values: 108,486,252\n",
      "Duplicate rows: 0\n",
      "Numeric columns: 113\n",
      "Object columns: 38\n",
      "\n",
      "Dataset loaded successfully!\n"
     ]
    }
   ],
   "source": [
    "\n",
    "DATA_PATH = '../data/accepted_2007_to_2018Q4.csv'\n",
    "SAMPLE_FRAC = None  \n",
    "\n",
    "try:\n",
    "    df_raw = load_lending_club_data(DATA_PATH, sample_frac=SAMPLE_FRAC)\n",
    "    # Get basic information about the dataset\n",
    "    dataset_info = get_basic_info(df_raw)\n",
    "    print(\"\\nDataset loaded successfully!\")\n",
    "except FileNotFoundError:\n",
    "    print(f\"Data file not found at {DATA_PATH}\")\n",
    "    print(\"Please download the Lending Club dataset from Kaggle and place it in the data/ folder\")\n",
    "    # For demo purposes, create a sample dataset\n",
    "    print(\"\\nCreating sample dataset for demonstration...\")\n",
    "    # Sample data creation (remove this in production)\n",
    "    sample_data = {\n",
    "        'grade': ['A', 'B', 'C', 'D', 'E', 'F', 'G'] * 1000,\n",
    "        'loan_status': np.random.choice(['Fully Paid', 'Charged Off'], 7000, p=[0.85, 0.15]),\n",
    "        'loan_amnt': np.random.uniform(5000, 35000, 7000),\n",
    "        'int_rate': np.random.uniform(5, 25, 7000),\n",
    "        'annual_inc': np.random.uniform(30000, 120000, 7000)\n",
    "    }\n",
    "    df_raw = pd.DataFrame(sample_data)\n",
    "    print(\"Sample dataset created for demonstration\")\n",
    "\n"
   ]
  },
  {
   "cell_type": "markdown",
   "metadata": {},
   "source": [
    "## 2. Data Cleaning & Preparation"
   ]
  },
  {
   "cell_type": "code",
   "execution_count": 8,
   "metadata": {},
   "outputs": [
    {
     "name": "stdout",
     "output_type": "stream",
     "text": [
      "Starting data cleaning...\n",
      "Rows before cleaning: 2,260,701\n",
      "After column selection: 2,260,701 rows × 8 columns\n",
      "After column selection: 2,260,701 rows × 8 columns\n",
      "After dropping missing grade/status: 2,260,668 rows (removed 33)\n",
      "After filtering to completed loans: 1,345,350 rows (removed 915,318)\n",
      "After dropping missing grade/status: 2,260,668 rows (removed 33)\n",
      "After filtering to completed loans: 1,345,350 rows (removed 915,318)\n",
      "✓ Added default indicator: 268,599 defaults (20.0%)\n",
      "✓ Added default indicator: 268,599 defaults (20.0%)\n",
      "✓ Converted employment length to numeric years\n",
      "✓ Converted employment length to numeric years\n",
      "✓ Handled missing values in non-critical columns\n",
      "Final cleaned dataset: 1,345,350 rows × 10 columns\n",
      "Cleaning done.\n",
      "\n",
      "Cleaning summary:\n",
      "Rows: 2,260,701 → 1,345,350 (40.5% removed)\n",
      "Columns: 151 → 10\n",
      "Overall default rate: 19.96%\n",
      "✓ Handled missing values in non-critical columns\n",
      "Final cleaned dataset: 1,345,350 rows × 10 columns\n",
      "Cleaning done.\n",
      "\n",
      "Cleaning summary:\n",
      "Rows: 2,260,701 → 1,345,350 (40.5% removed)\n",
      "Columns: 151 → 10\n",
      "Overall default rate: 19.96%\n",
      "Data validation passed.\n",
      "\n",
      "✅ Data cleaning complete!\n",
      "Final dataset: 1,345,350 loans ready for analysis\n",
      "Data validation passed.\n",
      "\n",
      "✅ Data cleaning complete!\n",
      "Final dataset: 1,345,350 loans ready for analysis\n"
     ]
    }
   ],
   "source": [
    "# Clean the dataset for analysis\n",
    "df_clean = clean_lending_club_data(df_raw)\n",
    "\n",
    "# Get cleaning summary\n",
    "cleaning_summary = get_cleaning_summary(df_raw, df_clean)\n",
    "\n",
    "# Validate cleaned data\n",
    "validate_cleaned_data(df_clean)\n",
    "\n",
    "print(f\"\\n✅ Data cleaning complete!\")\n",
    "print(f\"Final dataset: {df_clean.shape[0]:,} loans ready for analysis\")\n"
   ]
  },
  {
   "cell_type": "code",
   "execution_count": 17,
   "metadata": {},
   "outputs": [
    {
     "name": "stdout",
     "output_type": "stream",
     "text": [
      "=== Data Preview ===\n"
     ]
    },
    {
     "data": {
      "text/html": [
       "<div>\n",
       "<style scoped>\n",
       "    .dataframe tbody tr th:only-of-type {\n",
       "        vertical-align: middle;\n",
       "    }\n",
       "\n",
       "    .dataframe tbody tr th {\n",
       "        vertical-align: top;\n",
       "    }\n",
       "\n",
       "    .dataframe thead th {\n",
       "        text-align: right;\n",
       "    }\n",
       "</style>\n",
       "<table border=\"1\" class=\"dataframe\">\n",
       "  <thead>\n",
       "    <tr style=\"text-align: right;\">\n",
       "      <th></th>\n",
       "      <th>grade</th>\n",
       "      <th>sub_grade</th>\n",
       "      <th>loan_status</th>\n",
       "      <th>loan_amnt</th>\n",
       "      <th>int_rate</th>\n",
       "      <th>annual_inc</th>\n",
       "      <th>emp_length</th>\n",
       "      <th>purpose</th>\n",
       "      <th>is_default</th>\n",
       "      <th>emp_length_years</th>\n",
       "    </tr>\n",
       "  </thead>\n",
       "  <tbody>\n",
       "    <tr>\n",
       "      <th>0</th>\n",
       "      <td>C</td>\n",
       "      <td>C4</td>\n",
       "      <td>Fully Paid</td>\n",
       "      <td>3,600.0000</td>\n",
       "      <td>13.9900</td>\n",
       "      <td>55,000.0000</td>\n",
       "      <td>10+ years</td>\n",
       "      <td>debt_consolidation</td>\n",
       "      <td>0</td>\n",
       "      <td>10.0000</td>\n",
       "    </tr>\n",
       "    <tr>\n",
       "      <th>1</th>\n",
       "      <td>C</td>\n",
       "      <td>C1</td>\n",
       "      <td>Fully Paid</td>\n",
       "      <td>24,700.0000</td>\n",
       "      <td>11.9900</td>\n",
       "      <td>65,000.0000</td>\n",
       "      <td>10+ years</td>\n",
       "      <td>small_business</td>\n",
       "      <td>0</td>\n",
       "      <td>10.0000</td>\n",
       "    </tr>\n",
       "    <tr>\n",
       "      <th>2</th>\n",
       "      <td>B</td>\n",
       "      <td>B4</td>\n",
       "      <td>Fully Paid</td>\n",
       "      <td>20,000.0000</td>\n",
       "      <td>10.7800</td>\n",
       "      <td>63,000.0000</td>\n",
       "      <td>10+ years</td>\n",
       "      <td>home_improvement</td>\n",
       "      <td>0</td>\n",
       "      <td>10.0000</td>\n",
       "    </tr>\n",
       "    <tr>\n",
       "      <th>4</th>\n",
       "      <td>F</td>\n",
       "      <td>F1</td>\n",
       "      <td>Fully Paid</td>\n",
       "      <td>10,400.0000</td>\n",
       "      <td>22.4500</td>\n",
       "      <td>104,433.0000</td>\n",
       "      <td>3 years</td>\n",
       "      <td>major_purchase</td>\n",
       "      <td>0</td>\n",
       "      <td>3.0000</td>\n",
       "    </tr>\n",
       "    <tr>\n",
       "      <th>5</th>\n",
       "      <td>C</td>\n",
       "      <td>C3</td>\n",
       "      <td>Fully Paid</td>\n",
       "      <td>11,950.0000</td>\n",
       "      <td>13.4400</td>\n",
       "      <td>34,000.0000</td>\n",
       "      <td>4 years</td>\n",
       "      <td>debt_consolidation</td>\n",
       "      <td>0</td>\n",
       "      <td>4.0000</td>\n",
       "    </tr>\n",
       "  </tbody>\n",
       "</table>\n",
       "</div>"
      ],
      "text/plain": [
       "  grade sub_grade loan_status   loan_amnt  int_rate   annual_inc emp_length  \\\n",
       "0     C        C4  Fully Paid  3,600.0000   13.9900  55,000.0000  10+ years   \n",
       "1     C        C1  Fully Paid 24,700.0000   11.9900  65,000.0000  10+ years   \n",
       "2     B        B4  Fully Paid 20,000.0000   10.7800  63,000.0000  10+ years   \n",
       "4     F        F1  Fully Paid 10,400.0000   22.4500 104,433.0000    3 years   \n",
       "5     C        C3  Fully Paid 11,950.0000   13.4400  34,000.0000    4 years   \n",
       "\n",
       "              purpose  is_default  emp_length_years  \n",
       "0  debt_consolidation           0           10.0000  \n",
       "1      small_business           0           10.0000  \n",
       "2    home_improvement           0           10.0000  \n",
       "4      major_purchase           0            3.0000  \n",
       "5  debt_consolidation           0            4.0000  "
      ]
     },
     "metadata": {},
     "output_type": "display_data"
    },
    {
     "name": "stdout",
     "output_type": "stream",
     "text": [
      "\n",
      "=== Data Types ===\n"
     ]
    },
    {
     "data": {
      "text/plain": [
       "grade                object\n",
       "sub_grade            object\n",
       "loan_status          object\n",
       "loan_amnt           float64\n",
       "int_rate            float64\n",
       "annual_inc          float64\n",
       "emp_length           object\n",
       "purpose              object\n",
       "is_default            int64\n",
       "emp_length_years    float64\n",
       "dtype: object"
      ]
     },
     "metadata": {},
     "output_type": "display_data"
    },
    {
     "name": "stdout",
     "output_type": "stream",
     "text": [
      "\n",
      "=== Loan Status Distribution ===\n",
      "Fully Paid: 1,076,751 (80.0%)\n",
      "Charged Off: 268,559 (20.0%)\n",
      "Default: 40 (0.0%)\n",
      "\n",
      "=== Grade Distribution ===\n",
      "Grade A: 235,095 (17.5%)\n",
      "Grade B: 392,748 (29.2%)\n",
      "Grade C: 381,694 (28.4%)\n",
      "Grade D: 200,966 (14.9%)\n",
      "Grade E: 93,656 (7.0%)\n",
      "Grade F: 32,059 (2.4%)\n",
      "Grade G: 9,132 (0.7%)\n"
     ]
    }
   ],
   "source": [
    "# Quick data preview\n",
    "print(\"=== Data Preview ===\")\n",
    "display(df_clean.head())\n",
    "\n",
    "print(\"\\n=== Data Types ===\")\n",
    "display(df_clean.dtypes)\n",
    "\n",
    "print(\"\\n=== Loan Status Distribution ===\")\n",
    "status_dist = df_clean['loan_status'].value_counts()\n",
    "for status, count in status_dist.items():\n",
    "    pct = (count / len(df_clean)) * 100\n",
    "    print(f\"{status}: {count:,} ({pct:.1f}%)\")\n",
    "\n",
    "print(\"\\n=== Grade Distribution ===\")\n",
    "grade_dist = df_clean['grade'].value_counts().sort_index()\n",
    "for grade, count in grade_dist.items():\n",
    "    pct = (count / len(df_clean)) * 100\n",
    "    print(f\"Grade {grade}: {count:,} ({pct:.1f}%)\")\n"
   ]
  },
  {
   "cell_type": "markdown",
   "metadata": {},
   "source": [
    "## 3. Grade-Level Analysis\n",
    "\n",
    "Calculate key metrics for each loan grade to understand risk stratification and business impact."
   ]
  },
  {
   "cell_type": "code",
   "execution_count": 18,
   "metadata": {},
   "outputs": [
    {
     "name": "stdout",
     "output_type": "stream",
     "text": [
      "Calculating metrics for each loan grade...\n",
      "Done. Metrics calculated for 7 grades.\n",
      "=== Grade-Level Metrics ===\n",
      "Done. Metrics calculated for 7 grades.\n",
      "=== Grade-Level Metrics ===\n"
     ]
    },
    {
     "data": {
      "text/html": [
       "<div>\n",
       "<style scoped>\n",
       "    .dataframe tbody tr th:only-of-type {\n",
       "        vertical-align: middle;\n",
       "    }\n",
       "\n",
       "    .dataframe tbody tr th {\n",
       "        vertical-align: top;\n",
       "    }\n",
       "\n",
       "    .dataframe thead th {\n",
       "        text-align: right;\n",
       "    }\n",
       "</style>\n",
       "<table border=\"1\" class=\"dataframe\">\n",
       "  <thead>\n",
       "    <tr style=\"text-align: right;\">\n",
       "      <th></th>\n",
       "      <th>grade</th>\n",
       "      <th>total_loans</th>\n",
       "      <th>num_defaults</th>\n",
       "      <th>default_rate_pct</th>\n",
       "      <th>avg_loan_amount</th>\n",
       "      <th>avg_interest_rate</th>\n",
       "      <th>volume_share_pct</th>\n",
       "    </tr>\n",
       "  </thead>\n",
       "  <tbody>\n",
       "    <tr>\n",
       "      <th>0</th>\n",
       "      <td>A</td>\n",
       "      <td>235095</td>\n",
       "      <td>14206</td>\n",
       "      <td>6.0400</td>\n",
       "      <td>13,892.3442</td>\n",
       "      <td>7.1130</td>\n",
       "      <td>16.8400</td>\n",
       "    </tr>\n",
       "    <tr>\n",
       "      <th>1</th>\n",
       "      <td>B</td>\n",
       "      <td>392748</td>\n",
       "      <td>52576</td>\n",
       "      <td>13.3900</td>\n",
       "      <td>13,237.6222</td>\n",
       "      <td>10.6791</td>\n",
       "      <td>26.8000</td>\n",
       "    </tr>\n",
       "    <tr>\n",
       "      <th>2</th>\n",
       "      <td>C</td>\n",
       "      <td>381694</td>\n",
       "      <td>85657</td>\n",
       "      <td>22.4400</td>\n",
       "      <td>14,188.3950</td>\n",
       "      <td>14.0212</td>\n",
       "      <td>27.9200</td>\n",
       "    </tr>\n",
       "    <tr>\n",
       "      <th>3</th>\n",
       "      <td>D</td>\n",
       "      <td>200966</td>\n",
       "      <td>61067</td>\n",
       "      <td>30.3900</td>\n",
       "      <td>15,272.2698</td>\n",
       "      <td>17.7217</td>\n",
       "      <td>15.8200</td>\n",
       "    </tr>\n",
       "    <tr>\n",
       "      <th>4</th>\n",
       "      <td>E</td>\n",
       "      <td>93656</td>\n",
       "      <td>36041</td>\n",
       "      <td>38.4800</td>\n",
       "      <td>17,618.2532</td>\n",
       "      <td>21.1383</td>\n",
       "      <td>8.5100</td>\n",
       "    </tr>\n",
       "    <tr>\n",
       "      <th>5</th>\n",
       "      <td>F</td>\n",
       "      <td>32059</td>\n",
       "      <td>14492</td>\n",
       "      <td>45.2000</td>\n",
       "      <td>19,087.6813</td>\n",
       "      <td>24.9350</td>\n",
       "      <td>3.1500</td>\n",
       "    </tr>\n",
       "    <tr>\n",
       "      <th>6</th>\n",
       "      <td>G</td>\n",
       "      <td>9132</td>\n",
       "      <td>4560</td>\n",
       "      <td>49.9300</td>\n",
       "      <td>20,588.8058</td>\n",
       "      <td>27.7259</td>\n",
       "      <td>0.9700</td>\n",
       "    </tr>\n",
       "  </tbody>\n",
       "</table>\n",
       "</div>"
      ],
      "text/plain": [
       "  grade  total_loans  num_defaults  default_rate_pct  avg_loan_amount  \\\n",
       "0     A       235095         14206            6.0400      13,892.3442   \n",
       "1     B       392748         52576           13.3900      13,237.6222   \n",
       "2     C       381694         85657           22.4400      14,188.3950   \n",
       "3     D       200966         61067           30.3900      15,272.2698   \n",
       "4     E        93656         36041           38.4800      17,618.2532   \n",
       "5     F        32059         14492           45.2000      19,087.6813   \n",
       "6     G         9132          4560           49.9300      20,588.8058   \n",
       "\n",
       "   avg_interest_rate  volume_share_pct  \n",
       "0             7.1130           16.8400  \n",
       "1            10.6791           26.8000  \n",
       "2            14.0212           27.9200  \n",
       "3            17.7217           15.8200  \n",
       "4            21.1383            8.5100  \n",
       "5            24.9350            3.1500  \n",
       "6            27.7259            0.9700  "
      ]
     },
     "metadata": {},
     "output_type": "display_data"
    },
    {
     "name": "stdout",
     "output_type": "stream",
     "text": [
      "\n",
      "💾 Grade metrics saved to: ../outputs/grade_metrics.csv\n"
     ]
    }
   ],
   "source": [
    "# Calculate comprehensive grade-level metrics\n",
    "grade_metrics = calculate_grade_metrics(df_clean)\n",
    "\n",
    "# Display the results\n",
    "print(\"=== Grade-Level Metrics ===\")\n",
    "display(grade_metrics[['grade', 'total_loans', 'num_defaults', 'default_rate_pct', \n",
    "                      'avg_loan_amount', 'avg_interest_rate', 'volume_share_pct']])\n",
    "\n",
    "# Save results to CSV for stakeholders\n",
    "output_path = '../outputs/grade_metrics.csv'\n",
    "Path('../outputs').mkdir(exist_ok=True)\n",
    "grade_metrics.to_csv(output_path, index=False)\n",
    "print(f\"\\n💾 Grade metrics saved to: {output_path}\")\n"
   ]
  },
  {
   "cell_type": "code",
   "execution_count": 19,
   "metadata": {},
   "outputs": [
    {
     "name": "stdout",
     "output_type": "stream",
     "text": [
      "Portfolio Overview:\n",
      "Total loans: 1,345,350\n",
      "Total volume: $19,399,906,575\n",
      "Overall default rate: 19.96%\n",
      "Average interest rate: 13.24%\n",
      "High-risk exposure (F,G): 3.1% of loans\n",
      "Risk-Return Analysis:\n",
      "Risk-return correlation: 0.998\n",
      "Average risk premium: -11.79%\n",
      "Best risk-return grade: A\n",
      "Worst risk-return grade: G\n"
     ]
    }
   ],
   "source": [
    "# Calculate portfolio-level metrics\n",
    "portfolio_metrics = calculate_portfolio_metrics(df_clean)\n",
    "\n",
    "# Analyze risk-return relationship\n",
    "risk_return_analysis = analyze_risk_return_relationship(grade_metrics)\n"
   ]
  },
  {
   "cell_type": "code",
   "execution_count": 20,
   "metadata": {},
   "outputs": [
    {
     "name": "stdout",
     "output_type": "stream",
     "text": [
      "=== EXECUTIVE SUMMARY (AUTO) ===\n",
      "Total loans analyzed: 1,345,350\n",
      "Portfolio default rate: 19.96%\n",
      "Lowest default grade: A (6.04%)\n",
      "Highest default grade: G (49.93%)\n",
      "High-risk (F/G) exposure: 3.1%\n"
     ]
    }
   ],
   "source": [
    "# === Auto-generated Executive Summary (data-driven)\n",
    "overall_default = portfolio_metrics.get('overall_default_rate_pct', float('nan'))\n",
    "high_risk_pct = portfolio_metrics.get('high_risk_loans_pct', 0)\n",
    "\n",
    "print('=== EXECUTIVE SUMMARY (AUTO) ===')\n",
    "print(f\"Total loans analyzed: {portfolio_metrics.get('total_loans', 0):,}\")\n",
    "print(f\"Portfolio default rate: {overall_default:.2f}%\")\n",
    "\n",
    "if 'default_rate_pct' in grade_metrics.columns and len(grade_metrics) > 0:\n",
    "    sorted_g = grade_metrics.sort_values('default_rate_pct')\n",
    "    top_grade = sorted_g.iloc[0]['grade']\n",
    "    top_rate = sorted_g.iloc[0]['default_rate_pct']\n",
    "    worst_grade = sorted_g.iloc[-1]['grade']\n",
    "    worst_rate = sorted_g.iloc[-1]['default_rate_pct']\n",
    "    print(f\"Lowest default grade: {top_grade} ({top_rate:.2f}%)\")\n",
    "    print(f\"Highest default grade: {worst_grade} ({worst_rate:.2f}%)\")\n",
    "else:\n",
    "    print('Lowest default grade: N/A')\n",
    "    print('Highest default grade: N/A')\n",
    "\n",
    "print(f\"High-risk (F/G) exposure: {high_risk_pct:.1f}%\")\n"
   ]
  },
  {
   "cell_type": "markdown",
   "metadata": {},
   "source": [
    "## 4. Key Business Metric: Default Rate Analysis\n",
    "\n",
    "**Business Value**: This metric directly impacts loan portfolio profitability and risk management decisions. Understanding default patterns by grade enables:\n",
    "- Risk-based pricing strategies\n",
    "- Portfolio exposure limits\n",
    "- Capital allocation decisions\n",
    "- Regulatory compliance reporting"
   ]
  },
  {
   "cell_type": "code",
   "execution_count": 21,
   "metadata": {},
   "outputs": [
    {
     "name": "stdout",
     "output_type": "stream",
     "text": [
      "=== KEY BUSINESS METRIC: DEFAULT RATE BY GRADE ===\n",
      "\n",
      "Grade A: 14,206 defaults out of 235,095 loans → 6.04% default rate\n",
      "  Total volume: $3,266,020,650\n",
      "  Risk level: LOW RISK\n",
      "\n",
      "Grade B: 52,576 defaults out of 392,748 loans → 13.39% default rate\n",
      "  Total volume: $5,199,049,650\n",
      "  Risk level: MEDIUM RISK\n",
      "\n",
      "Grade C: 85,657 defaults out of 381,694 loans → 22.44% default rate\n",
      "  Total volume: $5,415,625,225\n",
      "  Risk level: HIGH RISK\n",
      "\n",
      "Grade D: 61,067 defaults out of 200,966 loans → 30.39% default rate\n",
      "  Total volume: $3,069,206,975\n",
      "  Risk level: HIGH RISK\n",
      "\n",
      "Grade E: 36,041 defaults out of 93,656 loans → 38.48% default rate\n",
      "  Total volume: $1,650,055,125\n",
      "  Risk level: HIGH RISK\n",
      "\n",
      "Grade F: 14,492 defaults out of 32,059 loans → 45.20% default rate\n",
      "  Total volume: $611,931,975\n",
      "  Risk level: HIGH RISK\n",
      "\n",
      "Grade G: 4,560 defaults out of 9,132 loans → 49.93% default rate\n",
      "  Total volume: $188,016,975\n",
      "  Risk level: HIGH RISK\n",
      "\n",
      "\n",
      "BUSINESS INTERPRETATION:\n",
      "• Low risk grades (<15%): A, B\n",
      "• Medium risk grades (15-25%): C\n",
      "• High risk grades (>=25%): D, E, F, G\n"
     ]
    }
   ],
   "source": [
    "# Key Metric Calculation: Default Rate by Grade\n",
    "print('=== KEY BUSINESS METRIC: DEFAULT RATE BY GRADE ===\\n')\n",
    "\n",
    "for _, row in grade_metrics.sort_values('grade').iterrows():\n",
    "    grade = row['grade']\n",
    "    total = int(row['total_loans'])\n",
    "    defaults = int(row['num_defaults'])\n",
    "    rate = row['default_rate_pct']\n",
    "    volume = row['total_volume']\n",
    "    print(f'Grade {grade}: {defaults:,} defaults out of {total:,} loans → {rate:.2f}% default rate')\n",
    "    print(f'  Total volume: ${volume:,.0f}')\n",
    "    if rate < 10:\n",
    "        risk_level = 'LOW RISK'\n",
    "    elif rate < 20:\n",
    "        risk_level = 'MEDIUM RISK'\n",
    "    else:\n",
    "        risk_level = 'HIGH RISK'\n",
    "    print(f'  Risk level: {risk_level}\\n')\n",
    "\n",
    "print('\\nBUSINESS INTERPRETATION:')\n",
    "low = grade_metrics[grade_metrics['default_rate_pct'] < 15]['grade'].tolist()\n",
    "mid = grade_metrics[(grade_metrics['default_rate_pct'] >= 15) & (grade_metrics['default_rate_pct'] < 25)]['grade'].tolist()\n",
    "high = grade_metrics[grade_metrics['default_rate_pct'] >= 25]['grade'].tolist()\n",
    "print(f\"• Low risk grades (<15%): {', '.join(low) if low else 'None'}\")\n",
    "print(f\"• Medium risk grades (15-25%): {', '.join(mid) if mid else 'None'}\")\n",
    "print(f\"• High risk grades (>=25%): {', '.join(high) if high else 'None'}\")\n"
   ]
  },
  {
   "cell_type": "markdown",
   "metadata": {},
   "source": [
    "## 5. Data Visualizations\n",
    "\n",
    "### 5.1 Default Rate by Grade\n",
    "\n",
    "This visualization shows how loan grades effectively stratify default risk, with clear progression from low-risk (A) to high-risk (G) segments."
   ]
  },
  {
   "cell_type": "code",
   "execution_count": 22,
   "metadata": {},
   "outputs": [
    {
     "data": {
      "image/png": "[encoded data removed]",
      "text/plain": [
       "<Figure size 1200x800 with 1 Axes>"
      ]
     },
     "metadata": {},
     "output_type": "display_data"
    },
    {
     "name": "stdout",
     "output_type": "stream",
     "text": [
      "\n",
      "VISUALIZATION INSIGHTS:\n",
      "- Highest default grade: G (49.93%)\n",
      "- Lowest default grade: A (6.04%)\n",
      "- Top volume grades: C, B, A\n"
     ]
    }
   ],
   "source": [
    "# Create default rate visualization\n",
    "plot_default_rate_by_grade(grade_metrics)\n",
    "\n",
    "print('\\nVISUALIZATION INSIGHTS:')\n",
    "if 'default_rate_pct' in grade_metrics.columns and len(grade_metrics) > 0:\n",
    "    idx_max = grade_metrics['default_rate_pct'].idxmax()\n",
    "    idx_min = grade_metrics['default_rate_pct'].idxmin()\n",
    "    max_grade = grade_metrics.loc[idx_max, 'grade']\n",
    "    max_rate = grade_metrics.loc[idx_max, 'default_rate_pct']\n",
    "    min_grade = grade_metrics.loc[idx_min, 'grade']\n",
    "    min_rate = grade_metrics.loc[idx_min, 'default_rate_pct']\n",
    "    top_vol = grade_metrics.sort_values('volume_share_pct', ascending=False).head(3)['grade'].tolist()\n",
    "    print(f\"- Highest default grade: {max_grade} ({max_rate:.2f}%)\")\n",
    "    print(f\"- Lowest default grade: {min_grade} ({min_rate:.2f}%)\")\n",
    "    print(f\"- Top volume grades: {', '.join(top_vol)}\")\n",
    "else:\n",
    "    print('- Insufficient grade metrics to summarize')\n"
   ]
  },
  {
   "cell_type": "markdown",
   "metadata": {},
   "source": [
    "### 5.2 Risk-Return Analysis\n",
    "\n",
    "This scatter plot examines whether interest rate premiums adequately compensate for higher default risk. Bubble size represents loan volume concentration."
   ]
  },
  {
   "cell_type": "code",
   "execution_count": 23,
   "metadata": {},
   "outputs": [
    {
     "data": {
      "image/png": "[encoded data removed]",
      "text/plain": [
       "<Figure size 1200x800 with 2 Axes>"
      ]
     },
     "metadata": {},
     "output_type": "display_data"
    },
    {
     "name": "stdout",
     "output_type": "stream",
     "text": [
      "\n",
      "RISK-RETURN INSIGHTS:\n",
      "- Risk-return correlation: 0.998\n",
      "- Best risk-return grade: A\n",
      "- Worst risk-return grade: G\n",
      "- Average risk premium: -11.79\n"
     ]
    }
   ],
   "source": [
    "# Create risk-return visualization\n",
    "plot_risk_return_analysis(grade_metrics)\n",
    "\n",
    "print('\\nRISK-RETURN INSIGHTS:')\n",
    "try:\n",
    "    print(f\"- Risk-return correlation: {risk_return_analysis['risk_return_correlation']:.3f}\")\n",
    "    print(f\"- Best risk-return grade: {risk_return_analysis['best_risk_return_grade']}\")\n",
    "    print(f\"- Worst risk-return grade: {risk_return_analysis['worst_risk_return_grade']}\")\n",
    "    print(f\"- Average risk premium: {risk_return_analysis['avg_risk_premium']:.2f}\")\n",
    "except Exception as e:\n",
    "    print('- Risk-return analysis not available:', str(e))\n"
   ]
  },
  {
   "cell_type": "markdown",
   "metadata": {},
   "source": [
    "## 6. Business Insights & Recommendations\n",
    "\n",
    "### Key Findings\n",
    "\n",
    "1. **Effective Risk Stratification**: The Lending Club grading system successfully differentiates borrower risk\n",
    "2. **Risk-Return Alignment**: Interest rates generally correlate with default risk across grades\n",
    "3. **Concentration Risk**: Portfolio concentrates in mid-tier grades, balancing risk and volume\n",
    "\n",
    "### Primary Business Insight\n",
    "\n",
    "**The loan grading system effectively segments borrower risk, but high-risk grades (F-G) may require enhanced risk controls to maintain portfolio quality.**\n",
    "\n",
    "### Actionable Recommendation\n",
    "\n",
    "**Implement tiered risk management strategy:**\n",
    "- Cap F-G grade exposure at 15% of portfolio\n",
    "- Require enhanced verification for high-risk applications\n",
    "- Consider dynamic pricing to better reflect individual risk profiles\n",
    "\n",
    "### Follow-up Analysis Requirements\n",
    "\n",
    "**Expected question: \"What borrower characteristics drive defaults within each grade?\"**\n",
    "\n",
    "**Preparation needed:**\n",
    "- Multi-variate analysis of debt-to-income, employment length, loan purpose\n",
    "- Logistic regression modeling to identify predictive features\n",
    "- Decision tree analysis for interaction effects between risk factors"
   ]
  },
  {
   "cell_type": "code",
   "execution_count": 24,
   "metadata": {},
   "outputs": [
    {
     "name": "stdout",
     "output_type": "stream",
     "text": [
      "=== ANALYSIS COMPLETE ===\n",
      "\n",
      "Generated Files:\n",
      "• ../outputs/grade_metrics.csv - Grade-level analysis results\n",
      "• ../outputs/visualizations/ - All charts and plots\n",
      "\n",
      " Ready for stakeholder presentation!\n",
      "\n",
      " Next Steps:\n",
      "1. Review risk thresholds with business stakeholders\n",
      "2. Implement portfolio monitoring dashboard\n",
      "3. Develop predictive models for early default detection\n",
      "4. Design A/B tests for risk-based pricing strategies\n"
     ]
    }
   ],
   "source": [
    "# Final summary and next steps\n",
    "print(\"=== ANALYSIS COMPLETE ===\\n\")\n",
    "print(\"Generated Files:\")\n",
    "print(\"• ../outputs/grade_metrics.csv - Grade-level analysis results\")\n",
    "print(\"• ../outputs/visualizations/ - All charts and plots\")\n",
    "print(\"\\n Ready for stakeholder presentation!\")\n",
    "print(\"\\n Next Steps:\")\n",
    "print(\"1. Review risk thresholds with business stakeholders\")\n",
    "print(\"2. Implement portfolio monitoring dashboard\")\n",
    "print(\"3. Develop predictive models for early default detection\")\n",
    "print(\"4. Design A/B tests for risk-based pricing strategies\")\n"
   ]
  }
 ],
 "metadata": {
  "kernelspec": {
   "display_name": "Python 3",
   "language": "python",
   "name": "python3"
  },
  "language_info": {
   "codemirror_mode": {
    "name": "ipython",
    "version": 3
   },
   "file_extension": ".py",
   "mimetype": "text/x-python",
   "name": "python",
   "nbconvert_exporter": "python",
   "pygments_lexer": "ipython3",
   "version": "3.13.2"
  }
 },
 "nbformat": 4,
 "nbformat_minor": 4
}
